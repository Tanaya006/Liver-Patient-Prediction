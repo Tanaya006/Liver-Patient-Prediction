{
 "cells": [
  {
   "cell_type": "markdown",
   "id": "13d21e65-b986-4a2d-91de-bb90e19365a8",
   "metadata": {},
   "source": [
    "# Analysis report"
   ]
  },
  {
   "cell_type": "markdown",
   "id": "7b5bf309-b79b-4e0c-8194-8cd480165531",
   "metadata": {},
   "source": [
    "Context\n",
    "\n",
    "    Patients with Liver disease have been continuously increasing because of excessive consumption of alcohol, inhale of harmful gases, intake of contaminated food, pickles and drugs. This dataset was used to evaluate prediction algorithms in an effort to reduce burden on doctors.\n"
   ]
  },
  {
   "cell_type": "markdown",
   "id": "5f6efe1e-4ebc-42cb-86a7-cd9688a201f1",
   "metadata": {},
   "source": [
    "1.Introduction\n",
    "\n",
    "This report outlines the analysis of different machine learning algorithm used to predict the liver disease patients.The main objective of this is to \n",
    "build the different predictive models to determine the presence of liver disease and evaluate their performane."
   ]
  },
  {
   "cell_type": "markdown",
   "id": "6f13c598-027e-42fd-8e29-fd02d50d4e72",
   "metadata": {},
   "source": [
    "2.Data Overview and Insites\n",
    "\n",
    "This dateset includes featurs that are responsible for the liver health and the target variable that indicates the presnce or absence of liver disease.\n",
    "After doing a detailed Exploratory data Analysis it indicates the following:\n",
    "\n",
    "1) Patients with desired level of proteins and enzymes least likely to develop any liver conditions.\n",
    "2) Normal range of Alkaline phosphotase is from 44-147 IU/L,However this range varies depending on the age and sex. People with much higher levels of Alkaline phosphotase carries risk of liver damage. We can say from the graph, that people who shows more than 250 IU/L of Alkaline phosphotase carries great risk of the disease.\n",
    "3) People between the age group of 20 to 70 years are more likely to have a liver disease and people between 30 to 50 yaers are highely at risk of the liver disease.\n",
    "People from age group 30-50 years are considered to be working professinals and are highely at risk due to many factors such as lack of sleep and excersice,unhealthy eating habits.\n",
    "\n",
    "The Bivariate Analysis which is nothing but the relation of every feature to the Target which tells us whether the patient has liver disease.\n",
    "it indicates the following:\n",
    "\n",
    "1) Total and Direct Bilirubin,Alkaline_phosphotasease,Alamine aminotransferase,Aspartate_aminotransferase and Total_protiens, Albumin and Albumin-globulin_ratio these factors directly affect the chances of having liver related disease in the future. \n",
    "2) Age and Gender of the people will least likely to contribute to the disease. \n",
    "3) High level of bilirubin in females and children can be due to growth hormones or due to pregnancy in females which can lead to temporary increses in bilirubin level.\n"
   ]
  },
  {
   "cell_type": "markdown",
   "id": "37f37401-e52c-479e-885d-c648a10fae40",
   "metadata": {},
   "source": [
    "3.Data preprocessing \n",
    "\n",
    "The data preprocessing involves handeling missing values,encoding the categorical veriables,looking for currupted data and outliers and standerdizing features as well.\n",
    "\n",
    "Various methods can be used to do data cleaning like,IQR and 3sigma rule method to handle the outliers and for Scaling, MinMaxScaler and Standerdisation is used.\n",
    "\n",
    "For encoding the categorical veriables mothods such as Label Encoder,One hot encoder,Manual and Frequency encoders are used out of which the Label encoder and Manual encoder using map function are used according to the data."
   ]
  },
  {
   "cell_type": "markdown",
   "id": "27d42a22-9972-4e55-be8c-77e71b45e00c",
   "metadata": {},
   "source": [
    "4.Classifier Models\n",
    "\n",
    "The following classifier models are implemented:\n",
    "\n",
    "1. Logistic Regression\n",
    "2. Support Vector Classifier(SVC)\n",
    "3. Decision Tree Classifier\n",
    "4. Random Forest\n",
    "5. KNN\n",
    "6. ANN\n",
    "\n",
    "Along with the classifiers model Hyperparameter Tuning and Ensemble techniques are also used to check whether the performance of the model is increased."
   ]
  },
  {
   "cell_type": "markdown",
   "id": "9347bbb5-dc19-41dc-8996-05998bb0838c",
   "metadata": {},
   "source": [
    "5.Evaluation\n",
    "\n",
    "1. Accuracy: It is nothing but the proportion of correctly classified classes.\n",
    "2. Recall: Proportion of true positives results among all actual positive classes.\n",
    "3. Precision: Proportion of true positive results among all positive predictions.\n",
    "4. F1_score: Harmonic mean of precision and recall."
   ]
  },
  {
   "cell_type": "markdown",
   "id": "2030d3a8-676d-4121-9f87-11c385be72ff",
   "metadata": {},
   "source": [
    "6.Best Model\n",
    "\n",
    "Extreme Gradient Boosting demonstrated the highest accuracy,recall,precision,f1-score, making it the most effective classifier for the dataset."
   ]
  },
  {
   "cell_type": "markdown",
   "id": "56fb7800-cb60-4cd5-99fe-2617a5ee25f7",
   "metadata": {},
   "source": [
    "7.Model Insites \n",
    "\n",
    "Decision Tree Classifier and using Ensemble technique like Boosting models provided insights into the most influential features for liver disease prediction."
   ]
  },
  {
   "cell_type": "markdown",
   "id": "fe4c3fa3-0140-4714-8521-adc0044a480a",
   "metadata": {},
   "source": [
    "8.Recommendations\n",
    "\n",
    "1. Feature Engineering: If we explore the feature interaction and adding or modifying some features may improve model performance.\n",
    "2. Hyperparameter Tuning: Fine-tuning and adding more parameters in tuning could enhance the performance of the existing models."
   ]
  },
  {
   "cell_type": "markdown",
   "id": "c6fddfd3-7410-4d04-a349-75bfadf5493a",
   "metadata": {},
   "source": [
    "9.Conclusion\n",
    "\n",
    "The Extreme Gradient Bossting emerged as the most efficient,reliable and more accurate for predicting liver disease as compared to other models"
   ]
  },
  {
   "cell_type": "code",
   "execution_count": null,
   "id": "056ea065-b8d4-4392-97c3-ab5fb0047f56",
   "metadata": {},
   "outputs": [],
   "source": []
  }
 ],
 "metadata": {
  "kernelspec": {
   "display_name": "Python 3 (ipykernel)",
   "language": "python",
   "name": "python3"
  },
  "language_info": {
   "codemirror_mode": {
    "name": "ipython",
    "version": 3
   },
   "file_extension": ".py",
   "mimetype": "text/x-python",
   "name": "python",
   "nbconvert_exporter": "python",
   "pygments_lexer": "ipython3",
   "version": "3.11.7"
  }
 },
 "nbformat": 4,
 "nbformat_minor": 5
}
